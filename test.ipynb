{
 "cells": [
  {
   "cell_type": "code",
   "execution_count": 3,
   "metadata": {},
   "outputs": [
    {
     "name": "stdout",
     "output_type": "stream",
     "text": [
      "c:\\Users\\31405.ISBDOMAIN1\\Downloads\\CycleGAN-sentiment-transfer_v2\n",
      "['.DS_Store', '.git', 'cur_best2', 'cycle_gan.py', 'data', 'data_utils.py', 'example.txt', 'lib', 'main.py', 'README.md', 'seq2seq_test.txt', 'test.ipynb', 'test_out.txt', 'tflib', 'word2vec.py', 'word2vec_model', '__pycache__']\n"
     ]
    }
   ],
   "source": [
    "import os\n",
    "print(os.getcwd())\n",
    "print(os.listdir())"
   ]
  },
  {
   "cell_type": "code",
   "execution_count": 2,
   "metadata": {},
   "outputs": [
    {
     "name": "stdout",
     "output_type": "stream",
     "text": [
      "Requirement already satisfied: gensim==3.8.3 in c:\\users\\31405.isbdomain1\\anaconda3\\lib\\site-packages (3.8.3)"
     ]
    },
    {
     "name": "stderr",
     "output_type": "stream",
     "text": [
      "WARNING: Ignoring invalid distribution -rotobuf (c:\\users\\31405.isbdomain1\\anaconda3\\lib\\site-packages)\n",
      "WARNING: Ignoring invalid distribution -rotobuf (c:\\users\\31405.isbdomain1\\anaconda3\\lib\\site-packages)\n",
      "WARNING: Ignoring invalid distribution -rotobuf (c:\\users\\31405.isbdomain1\\anaconda3\\lib\\site-packages)\n",
      "WARNING: Ignoring invalid distribution -rotobuf (c:\\users\\31405.isbdomain1\\anaconda3\\lib\\site-packages)\n",
      "WARNING: Ignoring invalid distribution -rotobuf (c:\\users\\31405.isbdomain1\\anaconda3\\lib\\site-packages)\n",
      "WARNING: Ignoring invalid distribution -rotobuf (c:\\users\\31405.isbdomain1\\anaconda3\\lib\\site-packages)\n"
     ]
    },
    {
     "name": "stdout",
     "output_type": "stream",
     "text": [
      "\n",
      "Requirement already satisfied: six>=1.5.0 in c:\\users\\31405.isbdomain1\\anaconda3\\lib\\site-packages (from gensim==3.8.3) (1.16.0)\n",
      "Requirement already satisfied: numpy>=1.11.3 in c:\\users\\31405.isbdomain1\\anaconda3\\lib\\site-packages (from gensim==3.8.3) (1.20.3)\n",
      "Requirement already satisfied: Cython==0.29.14 in c:\\users\\31405.isbdomain1\\anaconda3\\lib\\site-packages (from gensim==3.8.3) (0.29.14)\n",
      "Requirement already satisfied: smart-open>=1.8.1 in c:\\users\\31405.isbdomain1\\anaconda3\\lib\\site-packages (from gensim==3.8.3) (5.1.0)\n",
      "Requirement already satisfied: scipy>=0.18.1 in c:\\users\\31405.isbdomain1\\appdata\\roaming\\python\\python38\\site-packages (from gensim==3.8.3) (1.5.4)\n"
     ]
    }
   ],
   "source": [
    "!pip install gensim==3.8.3"
   ]
  },
  {
   "cell_type": "code",
   "execution_count": 10,
   "metadata": {},
   "outputs": [
    {
     "name": "stdout",
     "output_type": "stream",
     "text": [
      "word number: 22961"
     ]
    },
    {
     "name": "stderr",
     "output_type": "stream",
     "text": [
      "2022-10-01 02:26:24.974879: I tensorflow/core/platform/cpu_feature_guard.cc:142] This TensorFlow binary is optimized with oneAPI Deep Neural Network Library (oneDNN)to use the following CPU instructions in performance-critical operations:  AVX AVX2\n",
      "To enable them in other operations, rebuild TensorFlow with the appropriate compiler flags.\n",
      "WARNING:tensorflow:From c:\\Users\\31405.ISBDOMAIN1\\Downloads\\CycleGAN-sentiment-transfer_v2\\lib\\seq2seq.py:22: LSTMCell.__init__ (from tensorflow.python.keras.layers.legacy_rnn.rnn_cell_impl) is deprecated and will be removed in a future version.\n",
      "Instructions for updating:\n",
      "This class is equivalent as tf.keras.layers.LSTMCell, and will be replaced by that in Tensorflow 2.0.\n",
      "WARNING:tensorflow:From c:\\Users\\31405.ISBDOMAIN1\\Downloads\\CycleGAN-sentiment-transfer_v2\\lib\\seq2seq.py:26: bidirectional_dynamic_rnn (from tensorflow.python.ops.rnn) is deprecated and will be removed in a future version.\n",
      "Instructions for updating:\n",
      "Please use `keras.layers.Bidirectional(keras.layers.RNN(cell))`, which is equivalent to this API\n",
      "WARNING:tensorflow:From c:\\Users\\31405.ISBDOMAIN1\\Anaconda3\\lib\\site-packages\\tensorflow\\python\\ops\\rnn.py:438: dynamic_rnn (from tensorflow.python.ops.rnn) is deprecated and will be removed in a future version.\n",
      "Instructions for updating:\n",
      "Please use `keras.layers.RNN(cell)`, which is equivalent to this API\n",
      "WARNING:tensorflow:From c:\\Users\\31405.ISBDOMAIN1\\Anaconda3\\lib\\site-packages\\tensorflow\\python\\keras\\layers\\legacy_rnn\\rnn_cell_impl.py:962: Layer.add_variable (from tensorflow.python.keras.engine.base_layer_v1) is deprecated and will be removed in a future version.\n",
      "Instructions for updating:\n",
      "Please use `layer.add_weight` method instead.\n",
      "WARNING:tensorflow:From c:\\Users\\31405.ISBDOMAIN1\\Anaconda3\\lib\\site-packages\\tensorflow\\python\\keras\\layers\\legacy_rnn\\rnn_cell_impl.py:970: calling Zeros.__init__ (from tensorflow.python.ops.init_ops) with dtype is deprecated and will be removed in a future version.\n",
      "Instructions for updating:\n",
      "Call initializer instance with the dtype argument instead of passing it to the constructor\n",
      "Traceback (most recent call last):\n",
      "  File \"main.py\", line 42, in <module>\n",
      "    run(args)\n",
      "  File \"main.py\", line 30, in run\n",
      "    model = cycle_gan(args,sess)\n",
      "  File \"c:\\Users\\31405.ISBDOMAIN1\\Downloads\\CycleGAN-sentiment-transfer_v2\\cycle_gan.py\", line 42, in __init__"
     ]
    },
    {
     "name": "stdout",
     "output_type": "stream",
     "text": [
      "\n"
     ]
    },
    {
     "name": "stderr",
     "output_type": "stream",
     "text": [
      "\n",
      "    self.build_model()\n",
      "  File \"c:\\Users\\31405.ISBDOMAIN1\\Downloads\\CycleGAN-sentiment-transfer_v2\\cycle_gan.py\", line 245, in build_model\n",
      "    build_XYX_graph()\n",
      "  File \"c:\\Users\\31405.ISBDOMAIN1\\Downloads\\CycleGAN-sentiment-transfer_v2\\cycle_gan.py\", line 127, in build_XYX_graph\n",
      "    X2Y_outputs = seq2seq(\n",
      "  File \"c:\\Users\\31405.ISBDOMAIN1\\Downloads\\CycleGAN-sentiment-transfer_v2\\lib\\seq2seq.py\", line 40, in seq2seq\n",
      "    encoder_state = tf.nn.rnn_cell.LSTMStateTuple(c=encoder_state_c, h=encoder_state_h)\n",
      "AttributeError: module 'tensorflow._api.v2.nn' has no attribute 'rnn_cell'\n"
     ]
    }
   ],
   "source": [
    "!python main.py -train -mode pretrain -model_dir 'word2vec_model'"
   ]
  },
  {
   "cell_type": "code",
   "execution_count": null,
   "metadata": {},
   "outputs": [],
   "source": []
  }
 ],
 "metadata": {
  "kernelspec": {
   "display_name": "Python 3.8.13 ('base')",
   "language": "python",
   "name": "python3"
  },
  "language_info": {
   "codemirror_mode": {
    "name": "ipython",
    "version": 3
   },
   "file_extension": ".py",
   "mimetype": "text/x-python",
   "name": "python",
   "nbconvert_exporter": "python",
   "pygments_lexer": "ipython3",
   "version": "3.8.13"
  },
  "orig_nbformat": 4,
  "vscode": {
   "interpreter": {
    "hash": "d10ca6225bda4f31fe50651f75c184201642b71a45fdb9c5ad025328cc96bc44"
   }
  }
 },
 "nbformat": 4,
 "nbformat_minor": 2
}
